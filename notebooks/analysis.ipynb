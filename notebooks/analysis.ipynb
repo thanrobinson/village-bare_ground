{
 "cells": [
  {
   "cell_type": "code",
   "execution_count": 76,
   "metadata": {},
   "outputs": [
    {
     "data": {
      "text/html": [
       "\n",
       "            <style>\n",
       "                .geemap-dark {\n",
       "                    --jp-widgets-color: white;\n",
       "                    --jp-widgets-label-color: white;\n",
       "                    --jp-ui-font-color1: white;\n",
       "                    --jp-layout-color2: #454545;\n",
       "                    background-color: #383838;\n",
       "                }\n",
       "\n",
       "                .geemap-dark .jupyter-button {\n",
       "                    --jp-layout-color3: #383838;\n",
       "                }\n",
       "\n",
       "                .geemap-colab {\n",
       "                    background-color: var(--colab-primary-surface-color, white);\n",
       "                }\n",
       "\n",
       "                .geemap-colab .jupyter-button {\n",
       "                    --jp-layout-color3: var(--colab-primary-surface-color, white);\n",
       "                }\n",
       "            </style>\n",
       "            "
      ],
      "text/plain": [
       "<IPython.core.display.HTML object>"
      ]
     },
     "metadata": {},
     "output_type": "display_data"
    },
    {
     "name": "stdout",
     "output_type": "stream",
     "text": [
      "1.1.4\n"
     ]
    }
   ],
   "source": [
    "import ee\n",
    "import geemap\n",
    "\n",
    "ee.Initialize(project=\"ee-nathanielpaulrobinson\")\n",
    "print(ee.__version__)"
   ]
  },
  {
   "cell_type": "code",
   "execution_count": 78,
   "metadata": {},
   "outputs": [
    {
     "data": {
      "text/html": [
       "\n",
       "            <style>\n",
       "                .geemap-dark {\n",
       "                    --jp-widgets-color: white;\n",
       "                    --jp-widgets-label-color: white;\n",
       "                    --jp-ui-font-color1: white;\n",
       "                    --jp-layout-color2: #454545;\n",
       "                    background-color: #383838;\n",
       "                }\n",
       "\n",
       "                .geemap-dark .jupyter-button {\n",
       "                    --jp-layout-color3: #383838;\n",
       "                }\n",
       "\n",
       "                .geemap-colab {\n",
       "                    background-color: var(--colab-primary-surface-color, white);\n",
       "                }\n",
       "\n",
       "                .geemap-colab .jupyter-button {\n",
       "                    --jp-layout-color3: var(--colab-primary-surface-color, white);\n",
       "                }\n",
       "            </style>\n",
       "            "
      ],
      "text/plain": [
       "<IPython.core.display.HTML object>"
      ]
     },
     "metadata": {},
     "output_type": "display_data"
    }
   ],
   "source": [
    "# Load Private Assets\n",
    "asset_path = \"projects/ee-nathanielpaulrobinson/assets/NTRI-data/\"\n",
    "ntri_villages = ee.FeatureCollection(asset_path + \"NTRI-villages\")\n",
    "ntri_extent = ee.FeatureCollection(asset_path + \"NTRI-boundary\")\n",
    "glad_bareground = ee.Image(asset_path + \"bare_00N_030E\")\n",
    "\n",
    "# Load Public Assets\n",
    "mod44b = ee.ImageCollection(\"MODIS/006/MOD44B\")\n",
    "rap_veg = ee.ImageCollection(\"projects/rap-data-365417/assets/vegetation-cover-v3\")\n",
    "hansen_gfc = ee.Image(\"UMD/hansen/global_forest_change_2023_v1_11\")\n",
    "protected_areas = ee.FeatureCollection(\"WCMC/WDPA/current/polygons\")\n",
    "\n",
    "# Load Geometry\n",
    "geometry = ee.Geometry.Polygon(\n",
    "    [\n",
    "        [\n",
    "            [-113.07017637550278, 42.88855499739364],\n",
    "            [-113.07017637550278, 32.857108964921466],\n",
    "            [-97.33775450050278, 32.857108964921466],\n",
    "            [-97.33775450050278, 42.88855499739364],\n",
    "        ]\n",
    "    ],\n",
    "    None,\n",
    "    False,\n",
    ")"
   ]
  },
  {
   "cell_type": "code",
   "execution_count": 3,
   "metadata": {},
   "outputs": [
    {
     "data": {
      "text/html": [
       "\n",
       "            <style>\n",
       "                .geemap-dark {\n",
       "                    --jp-widgets-color: white;\n",
       "                    --jp-widgets-label-color: white;\n",
       "                    --jp-ui-font-color1: white;\n",
       "                    --jp-layout-color2: #454545;\n",
       "                    background-color: #383838;\n",
       "                }\n",
       "\n",
       "                .geemap-dark .jupyter-button {\n",
       "                    --jp-layout-color3: #383838;\n",
       "                }\n",
       "\n",
       "                .geemap-colab {\n",
       "                    background-color: var(--colab-primary-surface-color, white);\n",
       "                }\n",
       "\n",
       "                .geemap-colab .jupyter-button {\n",
       "                    --jp-layout-color3: var(--colab-primary-surface-color, white);\n",
       "                }\n",
       "            </style>\n",
       "            "
      ],
      "text/plain": [
       "<IPython.core.display.HTML object>"
      ]
     },
     "metadata": {},
     "output_type": "display_data"
    }
   ],
   "source": [
    "# Village Selection\n",
    "assessment_village_names = [\n",
    "    \"Eleng'ata Dapash\",\n",
    "    \"Engaruka chini\",\n",
    "    \"Kakoi\",\n",
    "    \"Katikati\",\n",
    "    \"Kimana\",\n",
    "    \"Kitwai A\",\n",
    "    \"Losirwa\",\n",
    "    \"Matale A\",\n",
    "    \"Nadonjukin\",\n",
    "    \"Ngoswak\",\n",
    "    \"Olchoroonyokie\",\n",
    "    \"Sangaiwe\",\n",
    "]\n",
    "\n",
    "assessment_villages = ntri_villages.filter(\n",
    "    ee.Filter.inList(\"Village\", assessment_village_names)\n",
    ")"
   ]
  },
  {
   "cell_type": "code",
   "execution_count": 15,
   "metadata": {},
   "outputs": [
    {
     "data": {
      "text/html": [
       "\n",
       "            <style>\n",
       "                .geemap-dark {\n",
       "                    --jp-widgets-color: white;\n",
       "                    --jp-widgets-label-color: white;\n",
       "                    --jp-ui-font-color1: white;\n",
       "                    --jp-layout-color2: #454545;\n",
       "                    background-color: #383838;\n",
       "                }\n",
       "\n",
       "                .geemap-dark .jupyter-button {\n",
       "                    --jp-layout-color3: #383838;\n",
       "                }\n",
       "\n",
       "                .geemap-colab {\n",
       "                    background-color: var(--colab-primary-surface-color, white);\n",
       "                }\n",
       "\n",
       "                .geemap-colab .jupyter-button {\n",
       "                    --jp-layout-color3: var(--colab-primary-surface-color, white);\n",
       "                }\n",
       "            </style>\n",
       "            "
      ],
      "text/plain": [
       "<IPython.core.display.HTML object>"
      ]
     },
     "metadata": {},
     "output_type": "display_data"
    }
   ],
   "source": [
    "# Create Pixel Area Image\n",
    "land_mask = hansen_gfc.select(\"datamask\").eq(1)\n",
    "area = ee.Image.pixelArea().multiply(0.0001).updateMask(land_mask).rename(\"area\")"
   ]
  },
  {
   "cell_type": "code",
   "execution_count": 13,
   "metadata": {},
   "outputs": [
    {
     "data": {
      "text/html": [
       "\n",
       "            <style>\n",
       "                .geemap-dark {\n",
       "                    --jp-widgets-color: white;\n",
       "                    --jp-widgets-label-color: white;\n",
       "                    --jp-ui-font-color1: white;\n",
       "                    --jp-layout-color2: #454545;\n",
       "                    background-color: #383838;\n",
       "                }\n",
       "\n",
       "                .geemap-dark .jupyter-button {\n",
       "                    --jp-layout-color3: #383838;\n",
       "                }\n",
       "\n",
       "                .geemap-colab {\n",
       "                    background-color: var(--colab-primary-surface-color, white);\n",
       "                }\n",
       "\n",
       "                .geemap-colab .jupyter-button {\n",
       "                    --jp-layout-color3: var(--colab-primary-surface-color, white);\n",
       "                }\n",
       "            </style>\n",
       "            "
      ],
      "text/plain": [
       "<IPython.core.display.HTML object>"
      ]
     },
     "metadata": {},
     "output_type": "display_data"
    }
   ],
   "source": [
    "# MOD44B Processing\n",
    "nonvegetated_band = \"Percent_NonVegetated\"\n",
    "pre_start_date = \"2010\"\n",
    "pre_end_date = \"2015\"\n",
    "post_start_date = \"2016\"\n",
    "post_end_date = \"2021\"\n",
    "\n",
    "mod44b_nonvegetated = mod44b.select(nonvegetated_band)\n",
    "\n",
    "pre_nonvegetated = (\n",
    "    mod44b_nonvegetated.filterDate(pre_start_date, pre_end_date)\n",
    "    .mean()\n",
    "    .rename(\"pre_nonvegetated_mod44\")\n",
    ")\n",
    "post_nonvegetated = (\n",
    "    mod44b_nonvegetated.filterDate(post_start_date, post_end_date)\n",
    "    .mean()\n",
    "    .rename(\"post_nonvegetated_mod44\")\n",
    ")\n",
    "\n",
    "mod44_bgr = pre_nonvegetated.addBands(post_nonvegetated)"
   ]
  },
  {
   "cell_type": "code",
   "execution_count": 39,
   "metadata": {},
   "outputs": [
    {
     "data": {
      "text/html": [
       "\n",
       "            <style>\n",
       "                .geemap-dark {\n",
       "                    --jp-widgets-color: white;\n",
       "                    --jp-widgets-label-color: white;\n",
       "                    --jp-ui-font-color1: white;\n",
       "                    --jp-layout-color2: #454545;\n",
       "                    background-color: #383838;\n",
       "                }\n",
       "\n",
       "                .geemap-dark .jupyter-button {\n",
       "                    --jp-layout-color3: #383838;\n",
       "                }\n",
       "\n",
       "                .geemap-colab {\n",
       "                    background-color: var(--colab-primary-surface-color, white);\n",
       "                }\n",
       "\n",
       "                .geemap-colab .jupyter-button {\n",
       "                    --jp-layout-color3: var(--colab-primary-surface-color, white);\n",
       "                }\n",
       "            </style>\n",
       "            "
      ],
      "text/plain": [
       "<IPython.core.display.HTML object>"
      ]
     },
     "metadata": {},
     "output_type": "display_data"
    }
   ],
   "source": [
    "# RAP Processing\n",
    "rap_bare_ground_band = \"BGR\"\n",
    "rap_bgr_collection = rap_veg.select(rap_bare_ground_band)\n",
    "rap_projection = rap_veg.first().projection()\n",
    "\n",
    "pre_rap_bgr = (\n",
    "    rap_bgr_collection.filterDate(pre_start_date, pre_end_date)\n",
    "    .mean()\n",
    "    .rename(\"pre_nonvegetated_rap\")\n",
    ")\n",
    "\n",
    "\n",
    "post_rap_bgr = (\n",
    "    rap_bgr_collection.filterDate(post_start_date, post_end_date)\n",
    "    .mean()\n",
    "    .rename(\"post_nonvegetated_rap\")\n",
    ")\n",
    "\n",
    "rap_bgr = pre_rap_bgr.addBands(post_rap_bgr).setDefaultProjection(rap_projection)"
   ]
  },
  {
   "cell_type": "code",
   "execution_count": 44,
   "metadata": {},
   "outputs": [
    {
     "data": {
      "text/html": [
       "\n",
       "            <style>\n",
       "                .geemap-dark {\n",
       "                    --jp-widgets-color: white;\n",
       "                    --jp-widgets-label-color: white;\n",
       "                    --jp-ui-font-color1: white;\n",
       "                    --jp-layout-color2: #454545;\n",
       "                    background-color: #383838;\n",
       "                }\n",
       "\n",
       "                .geemap-dark .jupyter-button {\n",
       "                    --jp-layout-color3: #383838;\n",
       "                }\n",
       "\n",
       "                .geemap-colab {\n",
       "                    background-color: var(--colab-primary-surface-color, white);\n",
       "                }\n",
       "\n",
       "                .geemap-colab .jupyter-button {\n",
       "                    --jp-layout-color3: var(--colab-primary-surface-color, white);\n",
       "                }\n",
       "            </style>\n",
       "            "
      ],
      "text/plain": [
       "<IPython.core.display.HTML object>"
      ]
     },
     "metadata": {},
     "output_type": "display_data"
    }
   ],
   "source": [
    "# Create Random Points Across S.W. US for Analysis\n",
    "random_points = ee.FeatureCollection.randomPoints(geometry, 10000)"
   ]
  },
  {
   "cell_type": "code",
   "execution_count": 46,
   "metadata": {},
   "outputs": [
    {
     "data": {
      "text/html": [
       "\n",
       "            <style>\n",
       "                .geemap-dark {\n",
       "                    --jp-widgets-color: white;\n",
       "                    --jp-widgets-label-color: white;\n",
       "                    --jp-ui-font-color1: white;\n",
       "                    --jp-layout-color2: #454545;\n",
       "                    background-color: #383838;\n",
       "                }\n",
       "\n",
       "                .geemap-dark .jupyter-button {\n",
       "                    --jp-layout-color3: #383838;\n",
       "                }\n",
       "\n",
       "                .geemap-colab {\n",
       "                    background-color: var(--colab-primary-surface-color, white);\n",
       "                }\n",
       "\n",
       "                .geemap-colab .jupyter-button {\n",
       "                    --jp-layout-color3: var(--colab-primary-surface-color, white);\n",
       "                }\n",
       "            </style>\n",
       "            "
      ],
      "text/plain": [
       "<IPython.core.display.HTML object>"
      ]
     },
     "metadata": {},
     "output_type": "display_data"
    }
   ],
   "source": [
    "# Combine MOD44 and RAP Datasets\n",
    "\n",
    "mod44_projection = mod44b.first().projection()\n",
    "\n",
    "rap_bgr_mod = rap_bgr.reproject(mod44_projection)\n",
    "\n",
    "nonvegetated_rap_mod44 = rap_bgr_mod.addBands(mod44_bgr)  # .divide(100).multiply(area)\n",
    "\n",
    "bare_stats = nonvegetated_rap_mod44.reduceRegions(\n",
    "    collection=random_points, scale=240, crs=\"EPSG:4326\", reducer=ee.Reducer.mean()\n",
    ")\n",
    "\n",
    "task1 = ee.batch.Export.table.toDrive(\n",
    "    collection=bare_stats,\n",
    "    description=\"mod44_rap_stats\",\n",
    "    fileFormat=\"CSV\",\n",
    "    fileNamePrefix=\"mod44_rap_stats\",\n",
    "    folder=\"ntri_bg_data\",\n",
    ")\n",
    "# task1.start()"
   ]
  },
  {
   "cell_type": "code",
   "execution_count": 89,
   "metadata": {},
   "outputs": [
    {
     "data": {
      "text/html": [
       "\n",
       "            <style>\n",
       "                .geemap-dark {\n",
       "                    --jp-widgets-color: white;\n",
       "                    --jp-widgets-label-color: white;\n",
       "                    --jp-ui-font-color1: white;\n",
       "                    --jp-layout-color2: #454545;\n",
       "                    background-color: #383838;\n",
       "                }\n",
       "\n",
       "                .geemap-dark .jupyter-button {\n",
       "                    --jp-layout-color3: #383838;\n",
       "                }\n",
       "\n",
       "                .geemap-colab {\n",
       "                    background-color: var(--colab-primary-surface-color, white);\n",
       "                }\n",
       "\n",
       "                .geemap-colab .jupyter-button {\n",
       "                    --jp-layout-color3: var(--colab-primary-surface-color, white);\n",
       "                }\n",
       "            </style>\n",
       "            "
      ],
      "text/plain": [
       "<IPython.core.display.HTML object>"
      ]
     },
     "metadata": {},
     "output_type": "display_data"
    }
   ],
   "source": [
    "# Combine GLAD BGR and MOD44\n",
    "\n",
    "mod_bgr_2010 = (\n",
    "    mod44b_nonvegetated.filterDate(\"2010\", \"2011\")\n",
    "    .first()\n",
    "    .divide(100)\n",
    "    .multiply(area)\n",
    "    .rename(\"mod_bgr\")\n",
    "    .addBands(area)\n",
    ")\n",
    "glad_bgr = glad_bareground.divide(100).multiply(area).rename(\"glad_bgr\").addBands(area)\n",
    "\n",
    "\n",
    "village_mod_stats = mod_bgr_2010.reduceRegions(\n",
    "    collection=assessment_villages,\n",
    "    scale=250,\n",
    "    crs=\"EPSG:4326\",\n",
    "    reducer=ee.Reducer.sum(),\n",
    ").select([\"Vil_Mtaa_N\", \"area\", \"mod_bgr\"])\n",
    "\n",
    "village_glad_stats = glad_bgr.reduceRegions(\n",
    "    collection=assessment_villages,\n",
    "    scale=30,\n",
    "    crs=\"EPSG:4326\",\n",
    "    reducer=ee.Reducer.sum(),\n",
    ").select([\"Vil_Mtaa_N\", \"area\", \"glad_bgr\"])\n",
    "\n",
    "\n",
    "# village_filter = ee.Filter.equals(leftField=\"Vil_Mtaa_N\", rightField=\"Vil_Mtaa_N\")\n",
    "\n",
    "# innerJoin = ee.Join.inner(\"primary\", \"secondary\")\n",
    "# table_join = innerJoin.apply(village_mod_stats, village_glad_stats, village_filter)\n",
    "# table_join\n",
    "\n",
    "task2 = ee.batch.Export.table.toDrive(\n",
    "    collection=village_glad_stats,\n",
    "    description=\"village_bare_stats_mod\",\n",
    "    fileFormat=\"CSV\",\n",
    "    fileNamePrefix=\"village_bare_stats_mod\",\n",
    "    folder=\"ntri_bg_data\",\n",
    ")\n",
    "task2.start()\n",
    "task3 = ee.batch.Export.table.toDrive(\n",
    "    collection=village_glad_stats,\n",
    "    description=\"village_bare_stats_mod\",\n",
    "    fileFormat=\"CSV\",\n",
    "    fileNamePrefix=\"village_bare_stats_mod\",\n",
    "    folder=\"ntri_bg_data\",\n",
    ")\n",
    "task3.start()"
   ]
  }
 ],
 "metadata": {
  "kernelspec": {
   "display_name": "Python 3",
   "language": "python",
   "name": "python3"
  },
  "language_info": {
   "codemirror_mode": {
    "name": "ipython",
    "version": 3
   },
   "file_extension": ".py",
   "mimetype": "text/x-python",
   "name": "python",
   "nbconvert_exporter": "python",
   "pygments_lexer": "ipython3",
   "version": "3.13.0"
  }
 },
 "nbformat": 4,
 "nbformat_minor": 2
}
