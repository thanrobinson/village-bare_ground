{
 "cells": [
  {
   "cell_type": "code",
   "execution_count": null,
   "metadata": {},
   "outputs": [],
   "source": [
    "import ee\n",
    "import geemap\n",
    "\n",
    "ee.Initialize(project=\"ee-nathanielpaulrobinson\")\n",
    "print(ee.__version__)"
   ]
  },
  {
   "cell_type": "code",
   "execution_count": 10,
   "metadata": {},
   "outputs": [
    {
     "data": {
      "text/html": [
       "\n",
       "            <style>\n",
       "                .geemap-dark {\n",
       "                    --jp-widgets-color: white;\n",
       "                    --jp-widgets-label-color: white;\n",
       "                    --jp-ui-font-color1: white;\n",
       "                    --jp-layout-color2: #454545;\n",
       "                    background-color: #383838;\n",
       "                }\n",
       "\n",
       "                .geemap-dark .jupyter-button {\n",
       "                    --jp-layout-color3: #383838;\n",
       "                }\n",
       "\n",
       "                .geemap-colab {\n",
       "                    background-color: var(--colab-primary-surface-color, white);\n",
       "                }\n",
       "\n",
       "                .geemap-colab .jupyter-button {\n",
       "                    --jp-layout-color3: var(--colab-primary-surface-color, white);\n",
       "                }\n",
       "            </style>\n",
       "            "
      ],
      "text/plain": [
       "<IPython.core.display.HTML object>"
      ]
     },
     "metadata": {},
     "output_type": "display_data"
    }
   ],
   "source": [
    "# Load Private Assets\n",
    "asset_path = \"projects/ee-nathanielpaulrobinson/assets/NTRI-data/\"\n",
    "ntri_villages = ee.FeatureCollection(asset_path + \"NTRI-villages\")\n",
    "ntri_extent = ee.FeatureCollection(asset_path + \"NTRI-boundary\")\n",
    "\n",
    "# Load Public Assets\n",
    "mod44b = ee.ImageCollection(\"MODIS/006/MOD44B\")\n",
    "hansen_gfc = ee.Image(\"UMD/hansen/global_forest_change_2023_v1_11\")\n",
    "protected_areas = ee.FeatureCollection(\"WCMC/WDPA/current/polygons\")"
   ]
  },
  {
   "cell_type": "code",
   "execution_count": null,
   "metadata": {},
   "outputs": [],
   "source": [
    "# Village Selection\n",
    "assessment_village_names = [\n",
    "    \"Eleng'ata Dapash\",\n",
    "    \"Engaruka chini\",\n",
    "    \"Kakoi\",\n",
    "    \"Katikati\",\n",
    "    \"Kimana\",\n",
    "    \"Kitwai A\",\n",
    "    \"Losirwa\",\n",
    "    \"Matale A\",\n",
    "    \"Nadonjukin\",\n",
    "    \"Ngoswak\",\n",
    "    \"Olchoroonyokie\",\n",
    "    \"Sangaiwe\",\n",
    "]\n",
    "\n",
    "assessment_villages = ntri_villages.filter(\n",
    "    ee.Filter.inList(\"Village\", assessment_village_names)\n",
    ")"
   ]
  },
  {
   "cell_type": "code",
   "execution_count": 43,
   "metadata": {},
   "outputs": [
    {
     "data": {
      "text/html": [
       "\n",
       "            <style>\n",
       "                .geemap-dark {\n",
       "                    --jp-widgets-color: white;\n",
       "                    --jp-widgets-label-color: white;\n",
       "                    --jp-ui-font-color1: white;\n",
       "                    --jp-layout-color2: #454545;\n",
       "                    background-color: #383838;\n",
       "                }\n",
       "\n",
       "                .geemap-dark .jupyter-button {\n",
       "                    --jp-layout-color3: #383838;\n",
       "                }\n",
       "\n",
       "                .geemap-colab {\n",
       "                    background-color: var(--colab-primary-surface-color, white);\n",
       "                }\n",
       "\n",
       "                .geemap-colab .jupyter-button {\n",
       "                    --jp-layout-color3: var(--colab-primary-surface-color, white);\n",
       "                }\n",
       "            </style>\n",
       "            "
      ],
      "text/plain": [
       "<IPython.core.display.HTML object>"
      ]
     },
     "metadata": {},
     "output_type": "display_data"
    }
   ],
   "source": [
    "# MOD44B Processing\n",
    "nonvegetated_band = \"Percent_NonVegetated\"\n",
    "pre_start_date = \"2010\"\n",
    "pre_end_date = \"2015\"\n",
    "post_start_date = \"2016\"\n",
    "post_end_date = \"2021\"\n",
    "\n",
    "mod44b_nonvegetated = mod44b.select(nonvegetated_band)\n",
    "\n",
    "pre_nonvegetated = (\n",
    "    mod44b_nonvegetated.filterDate(pre_start_date, pre_end_date)\n",
    "    .mean()\n",
    "    .rename(\"pre_nonvegetated\")\n",
    ")\n",
    "post_nonvegetated = (\n",
    "    mod44b_nonvegetated.filterDate(post_start_date, post_end_date)\n",
    "    .mean()\n",
    "    .rename(\"post_nonvegetated\")\n",
    ")"
   ]
  },
  {
   "cell_type": "code",
   "execution_count": 32,
   "metadata": {},
   "outputs": [
    {
     "data": {
      "text/html": [
       "\n",
       "            <style>\n",
       "                .geemap-dark {\n",
       "                    --jp-widgets-color: white;\n",
       "                    --jp-widgets-label-color: white;\n",
       "                    --jp-ui-font-color1: white;\n",
       "                    --jp-layout-color2: #454545;\n",
       "                    background-color: #383838;\n",
       "                }\n",
       "\n",
       "                .geemap-dark .jupyter-button {\n",
       "                    --jp-layout-color3: #383838;\n",
       "                }\n",
       "\n",
       "                .geemap-colab {\n",
       "                    background-color: var(--colab-primary-surface-color, white);\n",
       "                }\n",
       "\n",
       "                .geemap-colab .jupyter-button {\n",
       "                    --jp-layout-color3: var(--colab-primary-surface-color, white);\n",
       "                }\n",
       "            </style>\n",
       "            "
      ],
      "text/plain": [
       "<IPython.core.display.HTML object>"
      ]
     },
     "metadata": {},
     "output_type": "display_data"
    }
   ],
   "source": [
    "# Create Pixel Area Image\n",
    "land_mask = hansen_gfc.select(\"datamask\").eq(1)\n",
    "area = ee.Image.pixelArea().multiply(0.0001).updateMask(land_mask)"
   ]
  },
  {
   "cell_type": "code",
   "execution_count": 41,
   "metadata": {},
   "outputs": [
    {
     "data": {
      "text/html": [
       "\n",
       "            <style>\n",
       "                .geemap-dark {\n",
       "                    --jp-widgets-color: white;\n",
       "                    --jp-widgets-label-color: white;\n",
       "                    --jp-ui-font-color1: white;\n",
       "                    --jp-layout-color2: #454545;\n",
       "                    background-color: #383838;\n",
       "                }\n",
       "\n",
       "                .geemap-dark .jupyter-button {\n",
       "                    --jp-layout-color3: #383838;\n",
       "                }\n",
       "\n",
       "                .geemap-colab {\n",
       "                    background-color: var(--colab-primary-surface-color, white);\n",
       "                }\n",
       "\n",
       "                .geemap-colab .jupyter-button {\n",
       "                    --jp-layout-color3: var(--colab-primary-surface-color, white);\n",
       "                }\n",
       "            </style>\n",
       "            "
      ],
      "text/plain": [
       "<IPython.core.display.HTML object>"
      ]
     },
     "metadata": {},
     "output_type": "display_data"
    },
    {
     "name": "stdout",
     "output_type": "stream",
     "text": [
      "{'type': 'Feature', 'geometry': {'type': 'Polygon', 'coordinates': [[[35.913483921704035, -3.752373670448004], [35.91442034510058, -3.7553657078198848], [35.91531660782111, -3.756560737778917], [35.91834439078525, -3.7592540585019214], [35.92268308176833, -3.7623576240276524], [35.931770716001374, -3.7699112975814932], [35.93397794975646, -3.771516590413923], [35.935511898748956, -3.772863226219661], [35.936408170509736, -3.7743971643635987], [35.94010924496456, -3.777389195416373], [35.94089402951644, -3.7776879737023306], [35.94164315739458, -3.7779109607640344], [35.94283817400386, -3.779707984825554], [35.94388609413068, -3.781166064461882], [35.945495797193296, -3.7820980356540628], [35.94665519172938, -3.7822853462518764], [35.94934401048359, -3.7828471677460374], [35.951404101845455, -3.784117999060004], [35.953794235295234, -3.7854646604464337], [35.9555153987128, -3.7861736838779514], [35.9566390863641, -3.786137958990168], [35.95891773429046, -3.7856876265449944], [35.96239585347575, -3.7844925775056004], [35.96493750957168, -3.783631991215895], [35.96658291694899, -3.7835963035825317], [35.9699138328802, -3.783556135611396], [36.00046313551462, -3.7831815828111], [36.00371829755598, -3.7833332017452768], [36.00547522998698, -3.7835963130540176], [36.00745505290709, -3.7829943016024514], [36.010447068441245, -3.7828115012870933], [36.01508460321139, -3.7822853125090967], [36.019235975858706, -3.7823209865743586], [36.02256249356074, -3.7827357113536157], [36.03812025103417, -3.783596264739303], [36.05453422916642, -3.7840421835709956], [36.062012156243334, -3.7840065124865494], [36.07826556645877, -3.7838192581451575], [36.07827892180287, -3.7838192563104727], [36.077547692601435, -3.7829140728792066], [36.06205671100085, -3.763352007986145], [36.056366936980396, -3.7566989886263595], [36.05246963264641, -3.751878738994189], [36.04286477688945, -3.740793360463939], [36.03090547596154, -3.726051565920643], [36.02994678678557, -3.7248743620961613], [36.029839711679195, -3.7247049367195526], [36.028105157502424, -3.7225868775355546], [36.02685217400131, -3.7208522795504755], [36.02655334754053, -3.7204866569990953], [36.026477561647994, -3.720593639813819], [36.01302444230461, -3.7040191543048735], [36.00997440784213, -3.7002333909826577], [36.0008466742599, -3.6889161765386667], [35.99385034628578, -3.675168783161845], [35.993783414213446, -3.6750349993519658], [35.98830317739667, -3.6666296420255002], [35.98647493469981, -3.6640745568754136], [35.98483849920677, -3.6627457407087527], [35.983558743627604, -3.660578587606199], [35.98351862894447, -3.660993327950728], [35.983474029365816, -3.6614971852625597], [35.983326858881426, -3.6630578882128364], [35.98321091625093, -3.663115873872268], [35.98172607131784, -3.671748637726124], [35.98142283657581, -3.6725646719582006], [35.98116420157918, -3.673639331812757], [35.98111511565009, -3.6755299877818834], [35.9810125417396, -3.6772646031048173], [35.980321430944194, -3.6829365558552083], [35.97907283135405, -3.6890143279189465], [35.978867761109655, -3.6900845014458543], [35.97628593979552, -3.707911955948962], [35.97447552433297, -3.716366456102456], [35.96982470127964, -3.738456803028532], [35.96388513520352, -3.7328873935595053], [35.96246713228819, -3.7315585854405446], [35.957923352335435, -3.7279868466803814], [35.95449879024271, -3.726684802877106], [35.95148444713847, -3.725815270298345], [35.947239327981585, -3.7249501792736224], [35.938655577906786, -3.7338104113365014], [35.92941182693473, -3.743870190888392], [35.91650720333197, -3.7511429751120478], [35.913483921704035, -3.752373670448004]]]}, 'id': '00000000000000000026', 'properties': {'Village': 'Kakoi', 'post_nonvegetated': 2111.330818120432, 'pre_nonvegetated': 2015.8623842613217}}\n"
     ]
    }
   ],
   "source": [
    "# Calculate NonVegetated Area\n",
    "nonvegetated = pre_nonvegetated.addBands(post_nonvegetated).divide(100).multiply(area)\n",
    "\n",
    "bare_stats = nonvegetated.reduceRegions(\n",
    "    collection=assessment_villages, scale=250, crs=\"EPSG:4326\", reducer=ee.Reducer.sum()\n",
    ").select([\"Village\", \"pre_nonvegetated\", \"post_nonvegetated\"])"
   ]
  },
  {
   "cell_type": "code",
   "execution_count": 34,
   "metadata": {},
   "outputs": [
    {
     "data": {
      "text/html": [
       "\n",
       "            <style>\n",
       "                .geemap-dark {\n",
       "                    --jp-widgets-color: white;\n",
       "                    --jp-widgets-label-color: white;\n",
       "                    --jp-ui-font-color1: white;\n",
       "                    --jp-layout-color2: #454545;\n",
       "                    background-color: #383838;\n",
       "                }\n",
       "\n",
       "                .geemap-dark .jupyter-button {\n",
       "                    --jp-layout-color3: #383838;\n",
       "                }\n",
       "\n",
       "                .geemap-colab {\n",
       "                    background-color: var(--colab-primary-surface-color, white);\n",
       "                }\n",
       "\n",
       "                .geemap-colab .jupyter-button {\n",
       "                    --jp-layout-color3: var(--colab-primary-surface-color, white);\n",
       "                }\n",
       "            </style>\n",
       "            "
      ],
      "text/plain": [
       "<IPython.core.display.HTML object>"
      ]
     },
     "metadata": {},
     "output_type": "display_data"
    },
    {
     "data": {
      "application/vnd.jupyter.widget-view+json": {
       "model_id": "fea5fa2adee6475898084bb699fddc7a",
       "version_major": 2,
       "version_minor": 0
      },
      "text/plain": [
       "Map(center=[0, 0], controls=(WidgetControl(options=['position', 'transparent_bg'], widget=SearchDataGUI(childr…"
      ]
     },
     "execution_count": 34,
     "metadata": {},
     "output_type": "execute_result"
    }
   ],
   "source": [
    "Map = geemap.Map()\n",
    "Map.centerObject(ntri_extent)\n",
    "\n",
    "Map.add_layer(nonvegetated)\n",
    "Map"
   ]
  }
 ],
 "metadata": {
  "kernelspec": {
   "display_name": "Python 3",
   "language": "python",
   "name": "python3"
  },
  "language_info": {
   "codemirror_mode": {
    "name": "ipython",
    "version": 3
   },
   "file_extension": ".py",
   "mimetype": "text/x-python",
   "name": "python",
   "nbconvert_exporter": "python",
   "pygments_lexer": "ipython3",
   "version": "3.13.0"
  }
 },
 "nbformat": 4,
 "nbformat_minor": 2
}
