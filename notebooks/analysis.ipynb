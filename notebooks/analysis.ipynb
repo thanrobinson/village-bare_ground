{
 "cells": [
  {
   "cell_type": "code",
   "execution_count": 97,
   "metadata": {},
   "outputs": [
    {
     "data": {
      "text/html": [
       "\n",
       "            <style>\n",
       "                .geemap-dark {\n",
       "                    --jp-widgets-color: white;\n",
       "                    --jp-widgets-label-color: white;\n",
       "                    --jp-ui-font-color1: white;\n",
       "                    --jp-layout-color2: #454545;\n",
       "                    background-color: #383838;\n",
       "                }\n",
       "\n",
       "                .geemap-dark .jupyter-button {\n",
       "                    --jp-layout-color3: #383838;\n",
       "                }\n",
       "\n",
       "                .geemap-colab {\n",
       "                    background-color: var(--colab-primary-surface-color, white);\n",
       "                }\n",
       "\n",
       "                .geemap-colab .jupyter-button {\n",
       "                    --jp-layout-color3: var(--colab-primary-surface-color, white);\n",
       "                }\n",
       "            </style>\n",
       "            "
      ],
      "text/plain": [
       "<IPython.core.display.HTML object>"
      ]
     },
     "metadata": {},
     "output_type": "display_data"
    },
    {
     "name": "stdout",
     "output_type": "stream",
     "text": [
      "1.1.4\n"
     ]
    }
   ],
   "source": [
    "# Imports GEE and Initializes with Cloud Project\n",
    "import ee\n",
    "import geemap\n",
    "\n",
    "ee.Initialize(project=\"ee-nathanielpaulrobinson\")\n",
    "print(ee.__version__)"
   ]
  },
  {
   "cell_type": "code",
   "execution_count": 98,
   "metadata": {},
   "outputs": [
    {
     "data": {
      "text/html": [
       "\n",
       "            <style>\n",
       "                .geemap-dark {\n",
       "                    --jp-widgets-color: white;\n",
       "                    --jp-widgets-label-color: white;\n",
       "                    --jp-ui-font-color1: white;\n",
       "                    --jp-layout-color2: #454545;\n",
       "                    background-color: #383838;\n",
       "                }\n",
       "\n",
       "                .geemap-dark .jupyter-button {\n",
       "                    --jp-layout-color3: #383838;\n",
       "                }\n",
       "\n",
       "                .geemap-colab {\n",
       "                    background-color: var(--colab-primary-surface-color, white);\n",
       "                }\n",
       "\n",
       "                .geemap-colab .jupyter-button {\n",
       "                    --jp-layout-color3: var(--colab-primary-surface-color, white);\n",
       "                }\n",
       "            </style>\n",
       "            "
      ],
      "text/plain": [
       "<IPython.core.display.HTML object>"
      ]
     },
     "metadata": {},
     "output_type": "display_data"
    }
   ],
   "source": [
    "# Load Data to Use in Analyses\n",
    "\n",
    "# Load Private Assets\n",
    "asset_path = \"projects/ee-nathanielpaulrobinson/assets/NTRI-data/\"\n",
    "ntri_villages = ee.FeatureCollection(asset_path + \"NTRI-villages\")\n",
    "ntri_extent = ee.FeatureCollection(asset_path + \"NTRI-boundary\")\n",
    "glad_bareground = ee.Image(asset_path + \"bare_00N_030E\")\n",
    "\n",
    "# Load Public Assets\n",
    "mod44b = ee.ImageCollection(\"MODIS/006/MOD44B\")\n",
    "rap_veg = ee.ImageCollection(\"projects/rap-data-365417/assets/vegetation-cover-v3\")\n",
    "hansen_gfc = ee.Image(\"UMD/hansen/global_forest_change_2023_v1_11\")\n",
    "protected_areas = ee.FeatureCollection(\"WCMC/WDPA/current/polygons\")\n",
    "\n",
    "# Load Geometry - for RAP comparison\n",
    "geometry = ee.Geometry.Polygon(\n",
    "    [\n",
    "        [\n",
    "            [-113.07017637550278, 42.88855499739364],\n",
    "            [-113.07017637550278, 32.857108964921466],\n",
    "            [-97.33775450050278, 32.857108964921466],\n",
    "            [-97.33775450050278, 42.88855499739364],\n",
    "        ]\n",
    "    ],\n",
    "    None,\n",
    "    False,\n",
    ")"
   ]
  },
  {
   "cell_type": "code",
   "execution_count": 99,
   "metadata": {},
   "outputs": [
    {
     "data": {
      "text/html": [
       "\n",
       "            <style>\n",
       "                .geemap-dark {\n",
       "                    --jp-widgets-color: white;\n",
       "                    --jp-widgets-label-color: white;\n",
       "                    --jp-ui-font-color1: white;\n",
       "                    --jp-layout-color2: #454545;\n",
       "                    background-color: #383838;\n",
       "                }\n",
       "\n",
       "                .geemap-dark .jupyter-button {\n",
       "                    --jp-layout-color3: #383838;\n",
       "                }\n",
       "\n",
       "                .geemap-colab {\n",
       "                    background-color: var(--colab-primary-surface-color, white);\n",
       "                }\n",
       "\n",
       "                .geemap-colab .jupyter-button {\n",
       "                    --jp-layout-color3: var(--colab-primary-surface-color, white);\n",
       "                }\n",
       "            </style>\n",
       "            "
      ],
      "text/plain": [
       "<IPython.core.display.HTML object>"
      ]
     },
     "metadata": {},
     "output_type": "display_data"
    }
   ],
   "source": [
    "# Key Variables and Constants\n",
    "\n",
    "# Export Folder\n",
    "export_folder = \"ntri_bg_data\"\n",
    "\n",
    "# Projection and Scale Constants\n",
    "mod44_projection = mod44b.first().projection()\n",
    "mod44_scale = mod44_projection.nominalScale().getInfo()\n",
    "mod44_crs = mod44_projection.crs().getInfo()\n",
    "rap_projection = rap_veg.first().projection()\n",
    "glad_projection = glad_bareground.projection()\n",
    "glad_scale = glad_projection.nominalScale().getInfo()\n",
    "glad_crs = glad_projection.crs().getInfo()"
   ]
  },
  {
   "cell_type": "code",
   "execution_count": 100,
   "metadata": {},
   "outputs": [
    {
     "data": {
      "text/html": [
       "\n",
       "            <style>\n",
       "                .geemap-dark {\n",
       "                    --jp-widgets-color: white;\n",
       "                    --jp-widgets-label-color: white;\n",
       "                    --jp-ui-font-color1: white;\n",
       "                    --jp-layout-color2: #454545;\n",
       "                    background-color: #383838;\n",
       "                }\n",
       "\n",
       "                .geemap-dark .jupyter-button {\n",
       "                    --jp-layout-color3: #383838;\n",
       "                }\n",
       "\n",
       "                .geemap-colab {\n",
       "                    background-color: var(--colab-primary-surface-color, white);\n",
       "                }\n",
       "\n",
       "                .geemap-colab .jupyter-button {\n",
       "                    --jp-layout-color3: var(--colab-primary-surface-color, white);\n",
       "                }\n",
       "            </style>\n",
       "            "
      ],
      "text/plain": [
       "<IPython.core.display.HTML object>"
      ]
     },
     "metadata": {},
     "output_type": "display_data"
    }
   ],
   "source": [
    "# Village Selection\n",
    "assessment_village_names = [\n",
    "    \"Eleng'ata Dapash\",\n",
    "    \"Engaruka chini\",\n",
    "    \"Kakoi\",\n",
    "    \"Katikati\",\n",
    "    \"Kimana\",\n",
    "    \"Kitwai A\",\n",
    "    \"Losirwa\",\n",
    "    \"Matale A\",\n",
    "    \"Nadonjukin\",\n",
    "    \"Ngoswak\",\n",
    "    \"Olchoroonyokie\",\n",
    "    \"Sangaiwe\",\n",
    "]\n",
    "\n",
    "# Filter Villag Collection to Assessment Villages\n",
    "assessment_villages = ntri_villages.filter(\n",
    "    ee.Filter.inList(\"Village\", assessment_village_names)\n",
    ")"
   ]
  },
  {
   "cell_type": "code",
   "execution_count": 101,
   "metadata": {},
   "outputs": [
    {
     "data": {
      "text/html": [
       "\n",
       "            <style>\n",
       "                .geemap-dark {\n",
       "                    --jp-widgets-color: white;\n",
       "                    --jp-widgets-label-color: white;\n",
       "                    --jp-ui-font-color1: white;\n",
       "                    --jp-layout-color2: #454545;\n",
       "                    background-color: #383838;\n",
       "                }\n",
       "\n",
       "                .geemap-dark .jupyter-button {\n",
       "                    --jp-layout-color3: #383838;\n",
       "                }\n",
       "\n",
       "                .geemap-colab {\n",
       "                    background-color: var(--colab-primary-surface-color, white);\n",
       "                }\n",
       "\n",
       "                .geemap-colab .jupyter-button {\n",
       "                    --jp-layout-color3: var(--colab-primary-surface-color, white);\n",
       "                }\n",
       "            </style>\n",
       "            "
      ],
      "text/plain": [
       "<IPython.core.display.HTML object>"
      ]
     },
     "metadata": {},
     "output_type": "display_data"
    }
   ],
   "source": [
    "# Create Pixel Area Image for Area Analyses\n",
    "land_mask = hansen_gfc.select(\"datamask\").eq(1)\n",
    "area = ee.Image.pixelArea().multiply(0.0001).updateMask(land_mask).rename(\"area\")"
   ]
  },
  {
   "cell_type": "code",
   "execution_count": 102,
   "metadata": {},
   "outputs": [
    {
     "data": {
      "text/html": [
       "\n",
       "            <style>\n",
       "                .geemap-dark {\n",
       "                    --jp-widgets-color: white;\n",
       "                    --jp-widgets-label-color: white;\n",
       "                    --jp-ui-font-color1: white;\n",
       "                    --jp-layout-color2: #454545;\n",
       "                    background-color: #383838;\n",
       "                }\n",
       "\n",
       "                .geemap-dark .jupyter-button {\n",
       "                    --jp-layout-color3: #383838;\n",
       "                }\n",
       "\n",
       "                .geemap-colab {\n",
       "                    background-color: var(--colab-primary-surface-color, white);\n",
       "                }\n",
       "\n",
       "                .geemap-colab .jupyter-button {\n",
       "                    --jp-layout-color3: var(--colab-primary-surface-color, white);\n",
       "                }\n",
       "            </style>\n",
       "            "
      ],
      "text/plain": [
       "<IPython.core.display.HTML object>"
      ]
     },
     "metadata": {},
     "output_type": "display_data"
    }
   ],
   "source": [
    "# MOD44 - RAP comparison\n",
    "\n",
    "# MOD44B Processing\n",
    "nonvegetated_band = \"Percent_NonVegetated\"\n",
    "pre_start_date = \"2010\"\n",
    "pre_end_date = \"2015\"\n",
    "post_start_date = \"2016\"\n",
    "post_end_date = \"2021\"\n",
    "\n",
    "mod44b_nonvegetated = mod44b.select(nonvegetated_band)\n",
    "\n",
    "pre_nonvegetated = (\n",
    "    mod44b_nonvegetated.filterDate(pre_start_date, pre_end_date)\n",
    "    .mean()\n",
    "    .rename(\"pre_nonvegetated_mod44\")\n",
    ")\n",
    "post_nonvegetated = (\n",
    "    mod44b_nonvegetated.filterDate(post_start_date, post_end_date)\n",
    "    .mean()\n",
    "    .rename(\"post_nonvegetated_mod44\")\n",
    ")\n",
    "\n",
    "mod44_bgr = pre_nonvegetated.addBands(post_nonvegetated)\n",
    "\n",
    "\n",
    "# RAP Processing\n",
    "rap_bare_ground_band = \"BGR\"\n",
    "rap_bgr_collection = rap_veg.select(rap_bare_ground_band)\n",
    "rap_projection = rap_veg.first().projection()\n",
    "\n",
    "pre_rap_bgr = (\n",
    "    rap_bgr_collection.filterDate(pre_start_date, pre_end_date)\n",
    "    .mean()\n",
    "    .rename(\"pre_nonvegetated_rap\")\n",
    ")\n",
    "\n",
    "\n",
    "post_rap_bgr = (\n",
    "    rap_bgr_collection.filterDate(post_start_date, post_end_date)\n",
    "    .mean()\n",
    "    .rename(\"post_nonvegetated_rap\")\n",
    ")\n",
    "\n",
    "rap_bgr = pre_rap_bgr.addBands(post_rap_bgr).setDefaultProjection(rap_projection)\n",
    "\n",
    "# RAP Processing\n",
    "rap_bare_ground_band = \"BGR\"\n",
    "rap_bgr_collection = rap_veg.select(rap_bare_ground_band)\n",
    "\n",
    "\n",
    "pre_rap_bgr = (\n",
    "    rap_bgr_collection.filterDate(pre_start_date, pre_end_date)\n",
    "    .mean()\n",
    "    .rename(\"pre_nonvegetated_rap\")\n",
    ")\n",
    "\n",
    "\n",
    "post_rap_bgr = (\n",
    "    rap_bgr_collection.filterDate(post_start_date, post_end_date)\n",
    "    .mean()\n",
    "    .rename(\"post_nonvegetated_rap\")\n",
    ")\n",
    "\n",
    "rap_bgr = pre_rap_bgr.addBands(post_rap_bgr).setDefaultProjection(rap_projection)\n",
    "\n",
    "# Combine MOD44 and RAP Datasets\n",
    "rap_bgr_mod = rap_bgr.reproject(mod44_projection)\n",
    "nonvegetated_rap_mod44 = rap_bgr_mod.addBands(mod44_bgr)\n",
    "\n",
    "# Create Set of Random Points to Sample Datasets\n",
    "random_points = ee.FeatureCollection.randomPoints(geometry, 10000)\n",
    "bare_stats = nonvegetated_rap_mod44.reduceRegions(\n",
    "    collection=random_points,\n",
    "    scale=mod44_scale,\n",
    "    crs=mod44_crs,\n",
    "    reducer=ee.Reducer.mean(),\n",
    ")\n",
    "\n",
    "# Set up Export Task\n",
    "mod_rap_export = ee.batch.Export.table.toDrive(\n",
    "    collection=bare_stats,\n",
    "    description=\"mod44_rap_stats\",\n",
    "    fileFormat=\"CSV\",\n",
    "    fileNamePrefix=\"mod44_rap_stats\",\n",
    "    folder=export_folder,\n",
    ")"
   ]
  },
  {
   "cell_type": "code",
   "execution_count": 103,
   "metadata": {},
   "outputs": [
    {
     "data": {
      "text/html": [
       "\n",
       "            <style>\n",
       "                .geemap-dark {\n",
       "                    --jp-widgets-color: white;\n",
       "                    --jp-widgets-label-color: white;\n",
       "                    --jp-ui-font-color1: white;\n",
       "                    --jp-layout-color2: #454545;\n",
       "                    background-color: #383838;\n",
       "                }\n",
       "\n",
       "                .geemap-dark .jupyter-button {\n",
       "                    --jp-layout-color3: #383838;\n",
       "                }\n",
       "\n",
       "                .geemap-colab {\n",
       "                    background-color: var(--colab-primary-surface-color, white);\n",
       "                }\n",
       "\n",
       "                .geemap-colab .jupyter-button {\n",
       "                    --jp-layout-color3: var(--colab-primary-surface-color, white);\n",
       "                }\n",
       "            </style>\n",
       "            "
      ],
      "text/plain": [
       "<IPython.core.display.HTML object>"
      ]
     },
     "metadata": {},
     "output_type": "display_data"
    }
   ],
   "source": [
    "# Combine GLAD BGR and MOD44\n",
    "mod_bgr_2010 = (\n",
    "    mod44b_nonvegetated.filterDate(\"2010\", \"2011\")\n",
    "    .first()\n",
    "    .divide(100)\n",
    "    .multiply(area)\n",
    "    .rename(\"mod_bgr\")\n",
    "    .addBands(area)\n",
    ")\n",
    "glad_bgr = glad_bareground.divide(100).multiply(area).rename(\"glad_bgr\").addBands(area)\n",
    "\n",
    "# Village area stats created for MOD44 dataset at MOD44 resolution and crs\n",
    "village_mod_stats = mod_bgr_2010.reduceRegions(\n",
    "    collection=assessment_villages,\n",
    "    scale=mod44_scale,\n",
    "    crs=mod44_crs,\n",
    "    reducer=ee.Reducer.sum(),\n",
    ").select([\"Vil_Mtaa_N\", \"area\", \"mod_bgr\"])\n",
    "\n",
    "# Village area stats created for GLAD dataset at GLAD resolution and crs\n",
    "village_glad_stats = glad_bgr.reduceRegions(\n",
    "    collection=assessment_villages,\n",
    "    scale=glad_scale,\n",
    "    crs=glad_crs,\n",
    "    reducer=ee.Reducer.sum(),\n",
    ").select([\"Vil_Mtaa_N\", \"area\", \"glad_bgr\"])\n",
    "\n",
    "# Join output tables on village area match (village names have a repeat which may cause join error)\n",
    "max_diff_filter = ee.Filter.maxDifference(\n",
    "    difference=8, leftField=\"area\", rightField=\"area\"\n",
    ")\n",
    "\n",
    "save_best_join = ee.Join.saveBest(matchKey=\"best_village\", measureKey=\"areaDiff\")\n",
    "\n",
    "join = save_best_join.apply(village_mod_stats, village_glad_stats, max_diff_filter)\n",
    "\n",
    "\n",
    "# Clean Output Tables\n",
    "def clean_join(feature):\n",
    "    best_feature = ee.Feature(feature.get(\"best_village\"))\n",
    "    bg_stat = best_feature.get(\"glad_bgr\")\n",
    "    return feature.set({\"glad_bgr\": bg_stat})\n",
    "\n",
    "\n",
    "joined_tables = join.map(clean_join).select(\n",
    "    [\"Vil_Mtaa_N\", \"area\", \"glad_bgr\", \"mod_bgr\"]\n",
    ")\n",
    "\n",
    "mod_glad_export = ee.batch.Export.table.toDrive(\n",
    "    collection=joined_tables,\n",
    "    description=\"village_bare_stats\",\n",
    "    fileFormat=\"CSV\",\n",
    "    fileNamePrefix=\"village_bare_stats\",\n",
    "    folder=export_folder,\n",
    ")"
   ]
  },
  {
   "cell_type": "code",
   "execution_count": 104,
   "metadata": {},
   "outputs": [
    {
     "data": {
      "text/html": [
       "\n",
       "            <style>\n",
       "                .geemap-dark {\n",
       "                    --jp-widgets-color: white;\n",
       "                    --jp-widgets-label-color: white;\n",
       "                    --jp-ui-font-color1: white;\n",
       "                    --jp-layout-color2: #454545;\n",
       "                    background-color: #383838;\n",
       "                }\n",
       "\n",
       "                .geemap-dark .jupyter-button {\n",
       "                    --jp-layout-color3: #383838;\n",
       "                }\n",
       "\n",
       "                .geemap-colab {\n",
       "                    background-color: var(--colab-primary-surface-color, white);\n",
       "                }\n",
       "\n",
       "                .geemap-colab .jupyter-button {\n",
       "                    --jp-layout-color3: var(--colab-primary-surface-color, white);\n",
       "                }\n",
       "            </style>\n",
       "            "
      ],
      "text/plain": [
       "<IPython.core.display.HTML object>"
      ]
     },
     "metadata": {},
     "output_type": "display_data"
    }
   ],
   "source": [
    "# Run up Export Tasks\n",
    "mod_rap_export.start()\n",
    "mod_glad_export.start()"
   ]
  }
 ],
 "metadata": {
  "kernelspec": {
   "display_name": "Python 3",
   "language": "python",
   "name": "python3"
  },
  "language_info": {
   "codemirror_mode": {
    "name": "ipython",
    "version": 3
   },
   "file_extension": ".py",
   "mimetype": "text/x-python",
   "name": "python",
   "nbconvert_exporter": "python",
   "pygments_lexer": "ipython3",
   "version": "3.13.0"
  }
 },
 "nbformat": 4,
 "nbformat_minor": 2
}
